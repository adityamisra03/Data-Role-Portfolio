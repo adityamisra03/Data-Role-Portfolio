{
 "cells": [
  {
   "cell_type": "markdown",
   "metadata": {},
   "source": [
    "# Hypergeometric enrichment analysis\n",
    "The goal of this code is to replicate the enrichment analyses done in [Plaisier, et al. 2009](https://doi.org/10.1371/journal.pgen.1000642). There are five different analyses that we will attempt to replicate:\n",
    "\n",
    "1. Link USF1 over-expression (OE) with rs3737787 correlated genes\n",
    "2. Link USF1 direct target genes (Chip-ChIP) with rs3737787 correlated genes\n",
    "3. Link rs3737787 correlated genes with FCHL differential gene expression (DEGs)\n",
    "4. Link co-expression modules to FCHL DEGs\n",
    "5. Link co-expression modules to rs3737787 correlated genes\n",
    "\n",
    "Our analysis will be a little modified, but essentially the same.\n",
    "\n",
    "### First we need to install packages that are not installed:"
   ]
  },
  {
   "cell_type": "code",
   "execution_count": 2,
   "metadata": {},
   "outputs": [],
   "source": [
    "## Functional enrichment analysis\n",
    "# pip install mygene\n",
    "# pip install gseapy"
   ]
  },
  {
   "cell_type": "markdown",
   "metadata": {},
   "source": [
    "### Next load up packages needed for analyses:\n",
    "Please be sure to install what is missing if they give an error."
   ]
  },
  {
   "cell_type": "code",
   "execution_count": 4,
   "metadata": {},
   "outputs": [],
   "source": [
    "import pandas as pd\n",
    "import GEOparse as geo\n",
    "from scipy.stats import hypergeom\n",
    "from statsmodels.stats import multitest\n",
    "import gseapy as gp\n",
    "import mygene\n",
    "mg = mygene.MyGeneInfo()"
   ]
  },
  {
   "cell_type": "markdown",
   "metadata": {},
   "source": [
    "### Load up [GSE17170](https://www.ncbi.nlm.nih.gov/geo/query/acc.cgi?acc=GSE17170) which is the GEO ID for this study\n",
    "We need to get the background set of genes (M) for this study. This will be accomplished by loading the data in GEOparse and converting the Affymetrix probe IDs into Entrez IDs."
   ]
  },
  {
   "cell_type": "code",
   "execution_count": 6,
   "metadata": {},
   "outputs": [
    {
     "name": "stderr",
     "output_type": "stream",
     "text": [
      "31-Oct-2024 07:59:23 INFO GEOparse - Parsing data/GSE17170_family.soft.gz: \n",
      "31-Oct-2024 07:59:23 DEBUG GEOparse - DATABASE: GeoMiame\n",
      "31-Oct-2024 07:59:23 DEBUG GEOparse - SERIES: GSE17170\n",
      "31-Oct-2024 07:59:23 DEBUG GEOparse - PLATFORM: GPL570\n",
      "C:\\Users\\cplaisie\\AppData\\Local\\anaconda3\\Lib\\site-packages\\GEOparse\\GEOparse.py:401: DtypeWarning: Columns (2) have mixed types. Specify dtype option on import or set low_memory=False.\n",
      "  return read_csv(StringIO(data), index_col=None, sep=\"\\t\")\n",
      "31-Oct-2024 07:59:25 DEBUG GEOparse - SAMPLE: GSM429486\n",
      "31-Oct-2024 07:59:26 DEBUG GEOparse - SAMPLE: GSM429487\n",
      "31-Oct-2024 07:59:26 DEBUG GEOparse - SAMPLE: GSM429488\n",
      "31-Oct-2024 07:59:26 DEBUG GEOparse - SAMPLE: GSM429489\n",
      "31-Oct-2024 07:59:26 DEBUG GEOparse - SAMPLE: GSM429490\n",
      "31-Oct-2024 07:59:26 DEBUG GEOparse - SAMPLE: GSM429491\n",
      "31-Oct-2024 07:59:26 DEBUG GEOparse - SAMPLE: GSM429492\n",
      "31-Oct-2024 07:59:26 DEBUG GEOparse - SAMPLE: GSM429493\n",
      "31-Oct-2024 07:59:26 DEBUG GEOparse - SAMPLE: GSM429494\n",
      "31-Oct-2024 07:59:26 DEBUG GEOparse - SAMPLE: GSM429495\n",
      "31-Oct-2024 07:59:26 DEBUG GEOparse - SAMPLE: GSM429496\n",
      "31-Oct-2024 07:59:26 DEBUG GEOparse - SAMPLE: GSM429497\n",
      "31-Oct-2024 07:59:26 DEBUG GEOparse - SAMPLE: GSM429498\n",
      "31-Oct-2024 07:59:26 DEBUG GEOparse - SAMPLE: GSM429499\n",
      "31-Oct-2024 07:59:26 DEBUG GEOparse - SAMPLE: GSM429500\n",
      "31-Oct-2024 07:59:26 DEBUG GEOparse - SAMPLE: GSM429501\n",
      "31-Oct-2024 07:59:27 DEBUG GEOparse - SAMPLE: GSM429502\n",
      "31-Oct-2024 07:59:27 DEBUG GEOparse - SAMPLE: GSM429503\n",
      "31-Oct-2024 07:59:27 DEBUG GEOparse - SAMPLE: GSM429504\n",
      "31-Oct-2024 07:59:27 DEBUG GEOparse - SAMPLE: GSM429505\n",
      "31-Oct-2024 07:59:27 DEBUG GEOparse - SAMPLE: GSM429506\n",
      "31-Oct-2024 07:59:27 DEBUG GEOparse - SAMPLE: GSM429507\n",
      "31-Oct-2024 07:59:27 DEBUG GEOparse - SAMPLE: GSM429508\n",
      "31-Oct-2024 07:59:27 DEBUG GEOparse - SAMPLE: GSM429509\n",
      "31-Oct-2024 07:59:27 DEBUG GEOparse - SAMPLE: GSM429510\n",
      "31-Oct-2024 07:59:27 DEBUG GEOparse - SAMPLE: GSM429511\n",
      "31-Oct-2024 07:59:27 DEBUG GEOparse - SAMPLE: GSM429512\n",
      "31-Oct-2024 07:59:27 DEBUG GEOparse - SAMPLE: GSM429513\n",
      "31-Oct-2024 07:59:27 DEBUG GEOparse - SAMPLE: GSM429514\n",
      "31-Oct-2024 07:59:27 DEBUG GEOparse - SAMPLE: GSM429515\n",
      "31-Oct-2024 07:59:27 DEBUG GEOparse - SAMPLE: GSM429516\n",
      "31-Oct-2024 07:59:28 DEBUG GEOparse - SAMPLE: GSM429517\n",
      "31-Oct-2024 07:59:28 DEBUG GEOparse - SAMPLE: GSM429518\n",
      "31-Oct-2024 07:59:28 DEBUG GEOparse - SAMPLE: GSM429519\n",
      "31-Oct-2024 07:59:28 DEBUG GEOparse - SAMPLE: GSM429520\n",
      "31-Oct-2024 07:59:28 DEBUG GEOparse - SAMPLE: GSM429521\n",
      "31-Oct-2024 07:59:28 DEBUG GEOparse - SAMPLE: GSM429522\n",
      "31-Oct-2024 07:59:28 DEBUG GEOparse - SAMPLE: GSM429523\n",
      "31-Oct-2024 07:59:28 DEBUG GEOparse - SAMPLE: GSM429524\n",
      "31-Oct-2024 07:59:28 DEBUG GEOparse - SAMPLE: GSM429525\n",
      "31-Oct-2024 07:59:28 DEBUG GEOparse - SAMPLE: GSM429526\n",
      "31-Oct-2024 07:59:28 DEBUG GEOparse - SAMPLE: GSM429527\n",
      "31-Oct-2024 07:59:28 DEBUG GEOparse - SAMPLE: GSM429528\n",
      "31-Oct-2024 07:59:28 DEBUG GEOparse - SAMPLE: GSM429529\n",
      "31-Oct-2024 07:59:28 DEBUG GEOparse - SAMPLE: GSM429530\n",
      "31-Oct-2024 07:59:28 DEBUG GEOparse - SAMPLE: GSM429531\n",
      "31-Oct-2024 07:59:29 DEBUG GEOparse - SAMPLE: GSM429532\n",
      "31-Oct-2024 07:59:29 DEBUG GEOparse - SAMPLE: GSM429533\n",
      "31-Oct-2024 07:59:29 DEBUG GEOparse - SAMPLE: GSM429534\n",
      "31-Oct-2024 07:59:29 DEBUG GEOparse - SAMPLE: GSM429535\n",
      "31-Oct-2024 07:59:29 DEBUG GEOparse - SAMPLE: GSM429536\n",
      "31-Oct-2024 07:59:29 DEBUG GEOparse - SAMPLE: GSM429537\n",
      "31-Oct-2024 07:59:29 DEBUG GEOparse - SAMPLE: GSM429538\n",
      "31-Oct-2024 07:59:29 DEBUG GEOparse - SAMPLE: GSM429539\n",
      "31-Oct-2024 07:59:29 DEBUG GEOparse - SAMPLE: GSM429540\n",
      "31-Oct-2024 07:59:29 DEBUG GEOparse - SAMPLE: GSM429541\n",
      "31-Oct-2024 07:59:29 DEBUG GEOparse - SAMPLE: GSM429542\n",
      "31-Oct-2024 07:59:29 DEBUG GEOparse - SAMPLE: GSM429543\n",
      "31-Oct-2024 07:59:29 DEBUG GEOparse - SAMPLE: GSM429544\n",
      "31-Oct-2024 07:59:29 DEBUG GEOparse - SAMPLE: GSM429545\n",
      "31-Oct-2024 07:59:29 DEBUG GEOparse - SAMPLE: GSM429546\n",
      "31-Oct-2024 07:59:29 DEBUG GEOparse - SAMPLE: GSM429547\n",
      "31-Oct-2024 07:59:29 DEBUG GEOparse - SAMPLE: GSM429548\n",
      "31-Oct-2024 07:59:30 DEBUG GEOparse - SAMPLE: GSM429549\n",
      "31-Oct-2024 07:59:30 DEBUG GEOparse - SAMPLE: GSM429550\n",
      "31-Oct-2024 07:59:30 DEBUG GEOparse - SAMPLE: GSM429551\n",
      "31-Oct-2024 07:59:30 DEBUG GEOparse - SAMPLE: GSM429552\n",
      "31-Oct-2024 07:59:30 DEBUG GEOparse - SAMPLE: GSM429553\n",
      "31-Oct-2024 07:59:30 DEBUG GEOparse - SAMPLE: GSM429554\n",
      "31-Oct-2024 07:59:30 DEBUG GEOparse - SAMPLE: GSM429555\n"
     ]
    }
   ],
   "source": [
    "fchl = geo.get_GEO(filepath=\"data/GSE17170_family.soft.gz\")\n",
    "gexpFCHL = pd.concat([fchl.gsms[gsm].table['VALUE'] for gsm in fchl.gsms.keys()],axis=1)\n",
    "gexpFCHL.index = list(fchl.gsms[list(fchl.gsms.keys())[0]].table['ID_REF'])\n",
    "gexpFCHL.columns = fchl.gsms.keys()\n",
    "entrez = fchl.gpls['GPL570'].table.loc[fchl.gpls['GPL570'].table['ID'].isin(gexpFCHL.index),'ENTREZ_GENE_ID']\n",
    "allGenes = set(entrez.dropna())"
   ]
  },
  {
   "cell_type": "code",
   "execution_count": 7,
   "metadata": {},
   "outputs": [
    {
     "name": "stdout",
     "output_type": "stream",
     "text": [
      "['25923', '79086', '80223', '55862', '56647', '7174', '8705', '10924', '79663', '220', '7695', '6505', '79670', '64769', '80790', '10600', '3460', '5428', '8623', '50', '27106', '123207', '56674', '51747', '59269', '55869', '728264', '283537', '3223', '81887', '8943', '9738', '5226', '2029', '5423', '29087', '11161', '404093', '2319', '9766', '284613', '9470', '57175', '10561', '155061', '6275', '90826', '91612', '708', '63977', '2683', '54977', '8542', '59307', '11198', '7048', '80824', '10524', '23370', '8996', '57157', '100996412', '9188', '2202', '51150', '9802', '11145', '7041', '10180', '23136', '171568', '5376', '7071', '328', '54677', '1801 /// 124641', '79017', '4720', '3131', '222389', '64375', '2630', '83638', '207063', '57228', '161198', '374291', '28512', '2121', '5141', '140609', '8434', '399474', '3720', '124454', '50717', '84759', '90024', '8546', '8621']\n"
     ]
    }
   ],
   "source": [
    "print(list(allGenes)[0:100])"
   ]
  },
  {
   "cell_type": "markdown",
   "metadata": {},
   "source": [
    "There are some funky IDs with ///, so lets clean that up by taking splitting them and keeping all IDs. This section uses a very helpful tool called list comprehension:  https://realpython.com/list-comprehension-python/\n",
    "\n",
    "We also employ a helpful trick made possible through list comprehension that allows us to un-nest nested lists:\n",
    "\n",
    "`[item for sublist in list for item in sublist]`"
   ]
  },
  {
   "cell_type": "code",
   "execution_count": 9,
   "metadata": {},
   "outputs": [
    {
     "name": "stdout",
     "output_type": "stream",
     "text": [
      "[102465536, 2, 13, 14, 16, 19, 20, 21, 22, 163859, 23, 25, 100859930, 27, 29, 30, 31, 32, 33, 34, 35, 36, 37, 38, 39, 163882, 131118, 47, 48, 50, 51, 52, 53, 54, 59, 60, 81, 86, 87, 90, 91, 92, 93, 94, 95, 97, 98, 100, 102, 103, 104, 108, 109, 112, 113, 115, 117, 118, 120, 123, 125, 126, 127, 128, 102465666, 102465667, 196740, 132, 133, 102465669, 142, 143, 150, 153, 154, 156, 157, 158, 159, 161, 162, 163, 164, 165, 166, 172, 175, 178, 182, 185, 187, 191, 199, 202, 203, 204, 205, 207, 208, 210]\n"
     ]
    }
   ],
   "source": [
    "allGenes = set([int(i3) for i2 in [i.split(' /// ') for i in allGenes] for i3 in i2])\n",
    "print(list(allGenes)[0:100])"
   ]
  },
  {
   "cell_type": "markdown",
   "metadata": {},
   "source": [
    "Therefore M (background gene set) is:"
   ]
  },
  {
   "cell_type": "code",
   "execution_count": 11,
   "metadata": {},
   "outputs": [
    {
     "name": "stdout",
     "output_type": "stream",
     "text": [
      "9946\n"
     ]
    }
   ],
   "source": [
    "print(len(allGenes))"
   ]
  },
  {
   "cell_type": "markdown",
   "metadata": {},
   "source": [
    "### Supplementary tables with DEGs are in PDFs\n",
    "A lot of useful data can be found in supplementary tables, and you should remember to put useful information for your mansucript's into supplement!\n",
    "\n",
    "#### *USF1 over-expression DEGs:*  https://doi.org/10.1371/journal.pgen.1000642.s003"
   ]
  },
  {
   "cell_type": "code",
   "execution_count": 13,
   "metadata": {},
   "outputs": [
    {
     "name": "stdout",
     "output_type": "stream",
     "text": [
      "2140\n"
     ]
    }
   ],
   "source": [
    "# Load up USF1 over-expression (OE) differentially expressed genes (DEGs)\n",
    "# https://doi.org/10.1371/journal.pgen.1000642.s003\n",
    "df_USF1_OE_DEGs = pd.read_csv('data/df_USF1_OE_DEGs.csv', header=0, index_col=0) \n",
    "USF1_OE_DEGs = set(df_USF1_OE_DEGs['Entrez ID'].dropna()).intersection(allGenes)\n",
    "print(len(USF1_OE_DEGs)) # 2140"
   ]
  },
  {
   "cell_type": "markdown",
   "metadata": {},
   "source": [
    "#### *USF1 target genes (from [TFBSDB](http://tfbsdb.systemsbiology.net)):*  http://tfbsdb.systemsbiology.net/tfgenes_csv/V_USF_02_M00122"
   ]
  },
  {
   "cell_type": "code",
   "execution_count": 15,
   "metadata": {},
   "outputs": [
    {
     "name": "stdout",
     "output_type": "stream",
     "text": [
      "319\n"
     ]
    }
   ],
   "source": [
    "# Load up USF1 target genes (from TFBS_DB)\n",
    "# http://tfbsdb.systemsbiology.net/searchtf?searchterm=V_USF_02_M00122\n",
    "# http://tfbsdb.systemsbiology.net/tfgenes_csv/V_USF_02_M00122\n",
    "df_USF_M00122_target_genes = pd.read_csv('data/V_USF_02_M00122_genes.tsv', delimiter='\\t', index_col=0, header=0)\n",
    "USF_M00122_target_genes = set([i for i in df_USF_M00122_target_genes.index]).intersection(allGenes)\n",
    "print(len(USF_M00122_target_genes)) # 319 (NEW source)"
   ]
  },
  {
   "cell_type": "markdown",
   "metadata": {},
   "source": [
    "#### *rs3737787 correlated genes:*  https://doi.org/10.1371/journal.pgen.1000642.s004\n",
    "We modified this to only look at postively associated genes, and those that had a p-value less than 0.01."
   ]
  },
  {
   "cell_type": "code",
   "execution_count": 17,
   "metadata": {},
   "outputs": [
    {
     "name": "stdout",
     "output_type": "stream",
     "text": [
      "145\n"
     ]
    }
   ],
   "source": [
    "# Load up rs3737787 correlated genes\n",
    "# https://doi.org/10.1371/journal.pgen.1000642.s004\n",
    "df_rs3737787_corr = pd.read_csv('data/df_rs3737787_corr.csv', header=0, index_col=0)\n",
    "df_rs3737787_corr_up = df_rs3737787_corr.loc[df_rs3737787_corr['Effect \\nEstimate'].astype(float)>0]\n",
    "df_rs3737787_corr_up_0_01 = df_rs3737787_corr_up.loc[df_rs3737787_corr_up['P-value'].astype(float)<0.01]\n",
    "rs3737787_corr_up_0_01 = set(df_rs3737787_corr_up_0_01['Entrez ID'].dropna()).intersection(allGenes)\n",
    "print(len(rs3737787_corr_up_0_01)) # 145 (very different than what is in the paper, because we are using extra filters)"
   ]
  },
  {
   "cell_type": "markdown",
   "metadata": {},
   "source": [
    "#### *FCHL DEGs:*  https://doi.org/10.1371/journal.pgen.1000642.s005"
   ]
  },
  {
   "cell_type": "code",
   "execution_count": 19,
   "metadata": {},
   "outputs": [
    {
     "name": "stdout",
     "output_type": "stream",
     "text": [
      "2058\n"
     ]
    }
   ],
   "source": [
    "# Load up USF1 over-expression (OE) differentially expressed genes (DEGs)\n",
    "# https://doi.org/10.1371/journal.pgen.1000642.s005\n",
    "df_FCHL_DEGs = pd.read_csv('data/df_FCHL_DEGs.csv', header=0, index_col=0)\n",
    "FCHL_DEGs = set(df_FCHL_DEGs['Entrez ID'].dropna()).intersection(allGenes)\n",
    "print(len(FCHL_DEGs)) # 2058"
   ]
  },
  {
   "cell_type": "markdown",
   "metadata": {},
   "source": [
    "### Hypergeometric enrichment analysis\n",
    "Now that all the gene sets are available lets compute the overlaps.\n",
    "\n",
    "1. Link USF1 over-expression (OE) with rs3737787 correlated genes\n",
    "2. Link USF1 direct target genes (Chip-ChIP) with rs3737787 correlated genes\n",
    "3. Link rs3737787 correlated genes with FCHL differential gene expression (DEGs)\n",
    "4. Link co-expression modules to FCHL DEGs\n",
    "5. Link co-expression modules to rs3737787 correlated genes\n",
    "\n",
    "#### 1. USF1 OE DEGs vs. rs3737787 correlated/upregulated genes (cutoff 0.01)"
   ]
  },
  {
   "cell_type": "code",
   "execution_count": 21,
   "metadata": {},
   "outputs": [
    {
     "name": "stdout",
     "output_type": "stream",
     "text": [
      "[51, 9946, 2140, 145, 4.704198844055333e-05]\n"
     ]
    }
   ],
   "source": [
    "k = len(USF1_OE_DEGs.intersection(rs3737787_corr_up_0_01))\n",
    "M = len(allGenes)\n",
    "n = len(USF1_OE_DEGs)\n",
    "N = len(rs3737787_corr_up_0_01)\n",
    "p_value = hypergeom.sf(k, M, n, N)\n",
    "print([k,M,n,N,p_value])"
   ]
  },
  {
   "cell_type": "markdown",
   "metadata": {},
   "source": [
    "#### 2. USF1 target genes vs. rs3737787 correlated genes"
   ]
  },
  {
   "cell_type": "code",
   "execution_count": 23,
   "metadata": {},
   "outputs": [
    {
     "name": "stdout",
     "output_type": "stream",
     "text": [
      "[11, 9946, 319, 145, 0.002399271045278664]\n"
     ]
    }
   ],
   "source": [
    "k = len(USF_M00122_target_genes.intersection(rs3737787_corr_up_0_01))\n",
    "M = len(allGenes)\n",
    "n = len(USF_M00122_target_genes)\n",
    "N = len(rs3737787_corr_up_0_01)\n",
    "p_value = hypergeom.sf(k, M, n, N)\n",
    "print([k,M,n,N,p_value])"
   ]
  },
  {
   "cell_type": "markdown",
   "metadata": {},
   "source": [
    "#### 3. FCHL DEGs vs. rs3737787 correlated genes"
   ]
  },
  {
   "cell_type": "code",
   "execution_count": 25,
   "metadata": {},
   "outputs": [
    {
     "name": "stdout",
     "output_type": "stream",
     "text": [
      "[39, 9946, 2058, 145, 0.0278231553960585]\n"
     ]
    }
   ],
   "source": [
    "k = len(FCHL_DEGs.intersection(rs3737787_corr_up_0_01))\n",
    "M = len(allGenes)\n",
    "n = len(FCHL_DEGs)\n",
    "N = len(rs3737787_corr_up_0_01)\n",
    "p_value = hypergeom.sf(k, M, n, N)\n",
    "print([k,M,n,N,p_value])"
   ]
  },
  {
   "cell_type": "markdown",
   "metadata": {},
   "source": [
    "P-values for each of these analyses are less than 0.05, which means they show significant enrichment. The interpretation is:\n",
    "\n",
    "- **1-2** linked USF1 regulation with rs3737787\n",
    "- **3** linked rs3737787 with FCHL differential gene expression\n",
    "\n",
    "## Comparisons with co-expression modules\n",
    "> The gene expression variation between individuals in the Mexican FCHL fat biopsies is due to a combination of genetic and environmental factors. Ascertainment for disease status enriches the cases with factors leading to hyperlipidemia, and contrasting the cases with the controls will allow these factors to be more easily identified. We utilized weighted gene co-expression networking analysis (WGCNA) to identify gene co-expression modules summarizing the main trends in variation for the Mexican FCHL case/control fat biopsies. The WGCNA method clustered the 14,942 gene expression probes on the Mexican FCHL case/control microarrays into 28 gene co-expression modules ([Table S4](https://doi.org/10.1371/journal.pgen.1000642.s006)).\n",
    "\n",
    "**Figure 1. Correlation of module eigengenes (ME) with clinical traits and rs3737787 SNP genotypes.** The rows are labeled by the ME color, and in parentheses is the number of genes in the module. The columns are labeled by SNP or clinical trait. The quantitative clinical traits, all except for FCHL which is qualitative, were corrected for significant covariates (age and/or sex) and standardized before use in analyses. The correlation coefficients are shown for each cell, and in parentheses is the p-value for the significance of the correlation. Cells are colorized based on the strength and sign of the correlation according to the scale on the right hand side of the figure. The tan module has been renamed to the USF1-regulated FCHL-associated (URFA) module.\n",
    "![co-expression analysis](data/pgen.1000642.g001.png)\n",
    "### Load up module memberships\n",
    "Extracted only the Affymetrix probe ID to WGCNA module membership from Table S4. We will load that up now:"
   ]
  },
  {
   "cell_type": "code",
   "execution_count": 27,
   "metadata": {},
   "outputs": [
    {
     "name": "stdout",
     "output_type": "stream",
     "text": [
      "              WGCNA Module\n",
      "Affy. Probes              \n",
      "208685_x_at        Skyblue\n",
      "208610_s_at        Skyblue\n",
      "219437_s_at        Skyblue\n",
      "207966_s_at        Skyblue\n",
      "214911_s_at        Skyblue\n",
      "...                    ...\n",
      "204753_s_at           Grey\n",
      "218315_s_at         Purple\n",
      "219037_at     Midnightblue\n",
      "235318_at      Lightyellow\n",
      "208815_x_at           Blue\n",
      "\n",
      "[14942 rows x 1 columns]\n"
     ]
    }
   ],
   "source": [
    "module_membership = pd.read_csv('data/moduleMembership_Plaisier2009.csv',header=0, index_col=0)\n",
    "print(module_membership)"
   ]
  },
  {
   "cell_type": "markdown",
   "metadata": {},
   "source": [
    "We want to turn that into something more usable for us. A dictionary of module to a list of probe IDs would work perfectly here. Let's use [dictionary comprehension](https://towardsdatascience.com/10-examples-to-master-python-dictionary-comprehensions-7aaa536f5960) to build the dictionary.\n",
    "\n",
    "modules = `{modules:list(probe IDs), ...}`"
   ]
  },
  {
   "cell_type": "code",
   "execution_count": 29,
   "metadata": {},
   "outputs": [
    {
     "name": "stdout",
     "output_type": "stream",
     "text": [
      "dict_keys(['Cyan', 'Pink', 'Darkorange', 'Red', 'Salmon', 'Midnightblue', 'Darkred', 'Purple', 'Grey60', 'Skyblue', 'White', 'Greenyellow', 'Lightyellow', 'Orange', 'Royalblue', 'Lightgreen', 'Darkturquoise', 'Green', 'Darkgrey', 'Yellow', 'Lightcyan', 'Grey', 'Tan', 'Blue', 'Turquoise', 'Black', 'Magenta', 'Brown', 'Darkgreen'])\n"
     ]
    }
   ],
   "source": [
    "modules = {i:list(module_membership.loc[module_membership['WGCNA Module']==i].index) for i in set(module_membership['WGCNA Module'])}\n",
    "print(modules.keys())"
   ]
  },
  {
   "cell_type": "code",
   "execution_count": 30,
   "metadata": {},
   "outputs": [
    {
     "name": "stdout",
     "output_type": "stream",
     "text": [
      "['203359_s_at', '204971_at', '225670_at', '226195_at', '204218_at', '203517_at', '213902_at', '225330_at', '230174_at', '225593_at', '225684_at', '203327_at', '223100_s_at', '214733_s_at', '212226_s_at', '217922_at', '209268_at', '238890_at', '218138_at', '215947_s_at', '214719_at', '209694_at', '203545_at', '206833_s_at', '226196_s_at', '225480_at', '218447_at', '205201_at', '235509_at', '208633_s_at', '215000_s_at', '214033_at', '203042_at', '230257_s_at', '200713_s_at', '209208_at', '50374_at', '202348_s_at', '221511_x_at', '225108_at', '209934_s_at', '224376_s_at', '204839_at', '202544_at', '212371_at', '226671_at', '202088_at', '205055_at', '201899_s_at', '224180_x_at', '200736_s_at', '204079_at', '221255_s_at', '226851_at', '209707_at', '227158_at', '236075_s_at', '218664_at', '220966_x_at', '217772_s_at', '238032_at', '209902_at', '203647_s_at', '201722_s_at', '212296_at', '205204_at', '217835_x_at', '219446_at', '215983_s_at', '205452_at', '219374_s_at', '209398_at', '235198_at', '203625_x_at', '223158_s_at', '222654_at', '207431_s_at', '201199_s_at', '231166_at', '226997_at', '227442_at', '226339_at', '214151_s_at', '218516_s_at', '212872_s_at', '223880_x_at', '238718_at', '219603_s_at', '225783_at', '203658_at', '209123_at', '224130_s_at', '225083_at', '225841_at', '213045_at', '235010_at', '227531_at', '225252_at', '209740_s_at', '225856_at']\n"
     ]
    }
   ],
   "source": [
    "print(modules['Tan'][0:100])"
   ]
  },
  {
   "cell_type": "markdown",
   "metadata": {},
   "source": [
    "Now we need to convert the probe IDs into entrez IDs for the comparisons. Let's use the GPL570 from the fchl GSE we loaded earlier."
   ]
  },
  {
   "cell_type": "code",
   "execution_count": 32,
   "metadata": {},
   "outputs": [
    {
     "name": "stdout",
     "output_type": "stream",
     "text": [
      "[100653057, 8195, 151556, 2055, 124936, 389136, 55313, 51222, 10272, 8228, 6185, 127018, 4139, 8239, 51, 139322, 57403, 10302, 4162, 348235, 79947, 57419, 10318, 4176, 114780, 4190, 98, 51304, 114793, 108, 8301, 112752, 51313, 125058, 2182, 6282, 2195, 2202, 10400, 84129, 84134, 51367, 2230, 2237, 10440, 208, 2258, 211, 57569, 114915, 101927144, 8436, 10486, 10491, 10492, 8459, 162073, 2331, 284, 28962, 22821, 90410, 28971, 301, 308, 8501, 84279, 51524, 51527, 51528, 22859, 84305, 90459, 8540, 8544, 6502, 55661, 368, 8560, 22900, 51573, 10614, 55681, 10626, 10627, 22919, 29071, 55701, 27031, 27032, 10651, 412, 51619, 373156, 8613, 8611, 427, 6584, 80315, 444]\n"
     ]
    }
   ],
   "source": [
    "gpl570 = fchl.gpls['GPL570'].table\n",
    "gpl570.index = gpl570['ID']\n",
    "# Nesting a list comprehension in a dictionary comprehension\n",
    "modules_entrez = {i:set([int(i3) for i2 in [i.split(' /// ') for i in list(gpl570.loc[modules[i],'ENTREZ_GENE_ID'].dropna())] for i3 in i2]) for i in modules}\n",
    "print(list(modules_entrez['Tan'])[0:100])"
   ]
  },
  {
   "cell_type": "markdown",
   "metadata": {},
   "source": [
    "### Compare all modules vs. FCHL DEGs\n",
    "All the module data is loaded up so lets do comparison number 4, which is module gene membership vs. FCHL DEGs. Because there are multiple WGCNA modules we need to loop the analysis. Which also means we need to initialize a data structure to hold our results. Let's use a pandas DataFrame with the rows being the comparisons, and the columns being k, M, n, N, and P-value."
   ]
  },
  {
   "cell_type": "code",
   "execution_count": 34,
   "metadata": {},
   "outputs": [],
   "source": [
    "## \n",
    "module_vs_FCHL = pd.DataFrame(index=modules_entrez.keys(),columns=['k','M','n','N','P-value'])\n",
    "for module in modules_entrez:\n",
    "    k = len(FCHL_DEGs.intersection(modules_entrez[module]))\n",
    "    M = len(allGenes)\n",
    "    n = len(FCHL_DEGs)\n",
    "    N = len(modules_entrez[module])\n",
    "    p_value = hypergeom.sf(k, M, n, N)\n",
    "    module_vs_FCHL.loc[module] = [k,M,n,N,p_value]"
   ]
  },
  {
   "cell_type": "code",
   "execution_count": 35,
   "metadata": {},
   "outputs": [
    {
     "data": {
      "text/plain": [
       "(29, 5)"
      ]
     },
     "execution_count": 35,
     "metadata": {},
     "output_type": "execute_result"
    }
   ],
   "source": [
    "module_vs_FCHL.shape"
   ]
  },
  {
   "cell_type": "markdown",
   "metadata": {},
   "source": [
    "We just did 29 independent hypergeometric enrichment tests. We need to account for those tests using multiple hypothesis correction. We will use the statsmodels.stats.multitest.multipletests to correct the p-values and then add that to the DataFrame as the column 'Adj. P-value'."
   ]
  },
  {
   "cell_type": "code",
   "execution_count": 37,
   "metadata": {},
   "outputs": [
    {
     "name": "stderr",
     "output_type": "stream",
     "text": [
      "C:\\Users\\cplaisie\\AppData\\Local\\anaconda3\\Lib\\site-packages\\statsmodels\\stats\\multitest.py:186: RuntimeWarning: divide by zero encountered in log1p\n",
      "  np.log1p(-pvals))\n"
     ]
    }
   ],
   "source": [
    "module_vs_FCHL['Adj. P-value'] = multitest.multipletests(list(module_vs_FCHL['P-value']))[1]"
   ]
  },
  {
   "cell_type": "code",
   "execution_count": 38,
   "metadata": {},
   "outputs": [
    {
     "name": "stdout",
     "output_type": "stream",
     "text": [
      "                 k     M     n     N   P-value  Adj. P-value\n",
      "Black          259  9946  2058   485       0.0  2.569694e-59\n",
      "Magenta        289  9946  2058   573       0.0  2.658073e-59\n",
      "Midnightblue   130  9946  2058   246       0.0  9.765853e-29\n",
      "Greenyellow    117  9946  2058   302       0.0  2.380007e-12\n",
      "Purple         184  9946  2058   581       0.0  1.315557e-09\n",
      "Tan            137  9946  2058   431       0.0  2.779366e-07\n",
      "Skyblue         50  9946  2058   122       0.0  1.958047e-06\n",
      "White           47  9946  2058   123  0.000002  4.931629e-05\n",
      "Darkgreen       64  9946  2058   185  0.000003  6.537829e-05\n",
      "Green          222  9946  2058   862  0.000074  1.480296e-03\n",
      "Blue           269  9946  2058  1134  0.003683  6.770022e-02\n",
      "Darkgrey        40  9946  2058   152  0.036933  4.920523e-01\n",
      "Lightcyan       66  9946  2058   278  0.090465  7.986864e-01\n",
      "Orange          34  9946  2058   136  0.089979  7.986864e-01\n",
      "Red            148  9946  2058   656  0.102427  8.022817e-01\n",
      "Lightyellow     46  9946  2058   194  0.128425  8.540298e-01\n",
      "Lightgreen      51  9946  2058   223  0.184333  9.292592e-01\n",
      "Brown          267  9946  2058  1256   0.28404  9.818588e-01\n",
      "Grey60          48  9946  2058   229  0.421143  9.975550e-01\n",
      "Darkred         36  9946  2058   195  0.751155  9.999991e-01\n",
      "Darkturquoise   31  9946  2058   171  0.767632  9.999991e-01\n",
      "Grey            92  9946  2058   493  0.861386  9.999999e-01\n",
      "Cyan            45  9946  2058   269    0.9421  1.000000e+00\n",
      "Salmon          60  9946  2058   366  0.979466  1.000000e+00\n",
      "Darkorange      22  9946  2058   155  0.975762  1.000000e+00\n",
      "Turquoise      230  9946  2058  1369  0.999945  1.000000e+00\n",
      "Pink            87  9946  2058   575  0.999716  1.000000e+00\n",
      "Royalblue       20  9946  2058   218  0.999997  1.000000e+00\n",
      "Yellow          52  9946  2058  1019       1.0  1.000000e+00\n"
     ]
    }
   ],
   "source": [
    "# Print result\n",
    "print(module_vs_FCHL.sort_values('Adj. P-value'))"
   ]
  },
  {
   "cell_type": "markdown",
   "metadata": {},
   "source": [
    "Now we will write out enrichment analysis as a CSV."
   ]
  },
  {
   "cell_type": "code",
   "execution_count": 40,
   "metadata": {},
   "outputs": [],
   "source": [
    "# Write out CSV file\n",
    "module_vs_FCHL.sort_values('Adj. P-value').to_csv('modules_vs_FCHL_DEGs.csv')"
   ]
  },
  {
   "cell_type": "markdown",
   "metadata": {},
   "source": [
    "### Compare all modules vs. rs3737787 correlated/upregulated genes (alpha <= 0.01)\n",
    "All the module data is loaded up so lets do comparison number 5, which is module gene membership vs. rs3737787 correlated/upregulated genes (alpha <= 0.01). Again, because there are multiple WGCNA modules we need to loop the analysis. Which also means we need to initialize a data structure to hold our results. Let's use a pandas DataFrame with the rows being the comparisons, and the columns being k, M, n, N, and P-value."
   ]
  },
  {
   "cell_type": "code",
   "execution_count": 42,
   "metadata": {},
   "outputs": [],
   "source": [
    "module_vs_rs3737787 = pd.DataFrame(index=modules_entrez.keys(),columns=['k','M','n','N','P-value'])\n",
    "for module in modules_entrez:\n",
    "    k = len(rs3737787_corr_up_0_01.intersection(modules_entrez[module]))\n",
    "    M = len(allGenes)\n",
    "    n = len(rs3737787_corr_up_0_01)\n",
    "    N = len(modules_entrez[module])\n",
    "    p_value = hypergeom.sf(k, M, n, N)\n",
    "    module_vs_rs3737787.loc[module] = [k,M,n,N,p_value]"
   ]
  },
  {
   "cell_type": "code",
   "execution_count": 43,
   "metadata": {},
   "outputs": [
    {
     "data": {
      "text/plain": [
       "(29, 5)"
      ]
     },
     "execution_count": 43,
     "metadata": {},
     "output_type": "execute_result"
    }
   ],
   "source": [
    "module_vs_rs3737787.shape"
   ]
  },
  {
   "cell_type": "markdown",
   "metadata": {},
   "source": [
    "We just did 29 independent hypergeometric enrichment tests. We need to account for those tests using multiple hypothesis correction. We will use the statsmodels.stats.multitest.multipletests to correct the p-values and then add that to the DataFrame as the column 'Adj. P-value'."
   ]
  },
  {
   "cell_type": "code",
   "execution_count": 45,
   "metadata": {},
   "outputs": [],
   "source": [
    "# Add multiply hypothesis correction\n",
    "module_vs_rs3737787['Adj. P-value'] = multitest.multipletests(list(module_vs_rs3737787['P-value']))[1]"
   ]
  },
  {
   "cell_type": "code",
   "execution_count": 46,
   "metadata": {},
   "outputs": [
    {
     "name": "stdout",
     "output_type": "stream",
     "text": [
      "                k     M    n     N   P-value  Adj. P-value\n",
      "Tan            48  9946  145   431       0.0  9.941453e-30\n",
      "Turquoise      62  9946  145  1369       0.0  3.992076e-17\n",
      "Blue           36  9946  145  1134  0.000002  4.058502e-05\n",
      "Darkturquoise   7  9946  145   171   0.00351  8.735700e-02\n",
      "Yellow         17  9946  145  1019  0.227713  9.984352e-01\n",
      "Darkorange      2  9946  145   155  0.394268  9.999940e-01\n",
      "Skyblue         1  9946  145   122  0.533912  1.000000e+00\n",
      "Black           6  9946  145   485  0.565862  1.000000e+00\n",
      "Orange          1  9946  145   136  0.593096  1.000000e+00\n",
      "Darkgrey        1  9946  145   152  0.653711  1.000000e+00\n",
      "Darkred         1  9946  145   195  0.781355  1.000000e+00\n",
      "White           0  9946  145   123  0.837591  1.000000e+00\n",
      "Red             6  9946  145   656  0.850755  1.000000e+00\n",
      "Magenta         0  9946  145   573  0.999828  1.000000e+00\n",
      "Grey            3  9946  145   493  0.933745  1.000000e+00\n",
      "Lightcyan       1  9946  145   278  0.916775  1.000000e+00\n",
      "Cyan            1  9946  145   269  0.907224  1.000000e+00\n",
      "Royalblue       0  9946  145   218  0.960729  1.000000e+00\n",
      "Lightgreen      0  9946  145   223   0.96357  1.000000e+00\n",
      "Brown          13  9946  145  1256  0.890573  1.000000e+00\n",
      "Lightyellow     0  9946  145   194  0.943714  1.000000e+00\n",
      "Greenyellow     1  9946  145   302  0.937946  1.000000e+00\n",
      "Grey60          0  9946  145   229  0.966712  1.000000e+00\n",
      "Purple          2  9946  145   581  0.992185  1.000000e+00\n",
      "Midnightblue    1  9946  145   246  0.878014  1.000000e+00\n",
      "Salmon          0  9946  145   366  0.995818  1.000000e+00\n",
      "Pink            1  9946  145   575  0.998328  1.000000e+00\n",
      "Green           6  9946  145   862   0.97289  1.000000e+00\n",
      "Darkgreen       0  9946  145   185  0.935594  1.000000e+00\n"
     ]
    }
   ],
   "source": [
    "# Print result\n",
    "print(module_vs_rs3737787.sort_values('Adj. P-value'))"
   ]
  },
  {
   "cell_type": "markdown",
   "metadata": {},
   "source": [
    "We just did 29 independent hypergeometric enrichment tests. We need to account for those tests using multiple hypothesis correction. We will use the statsmodels.stats.multitest.multipletests to correct the p-values and then add that to the DataFrame as the column 'Adj. P-value'."
   ]
  },
  {
   "cell_type": "code",
   "execution_count": 48,
   "metadata": {},
   "outputs": [],
   "source": [
    "module_vs_rs3737787.sort_values('Adj. P-value').to_csv('modules_vs_rs3737787_corr_up_0_01.csv')"
   ]
  },
  {
   "cell_type": "markdown",
   "metadata": {},
   "source": [
    "#### Interpretation\n",
    "The Tan module is pretty amazing in that it is associated with both FCHL and rs3737787. We should look into that module deeper.\n",
    "\n",
    "### Functional enrichment analysis with the Tan module\n",
    "With functional enrichment analysis we can attribute biological functions to the Tan module. First, we need to convert the Entrez IDs into gene symbols using the [mygene](https://pypi.org/project/mygene/) package, and then compute the functional enrichment using [enrichr](https://maayanlab.cloud/Enrichr/) in [gseapy](https://gseapy.readthedocs.io/en/latest/introduction.html).\n",
    "\n",
    "First let's convert the tan module:"
   ]
  },
  {
   "cell_type": "code",
   "execution_count": 50,
   "metadata": {},
   "outputs": [
    {
     "name": "stderr",
     "output_type": "stream",
     "text": [
      "10 input query terms found no hit:\t['100653057', '101927144', '102724112', '101929792', '100506538', '101930322', '102724985', '1019304\n"
     ]
    }
   ],
   "source": [
    "# Map entrez gene IDs to gene symbols\n",
    "tan_mapped = mg.querymany(list(modules_entrez['Tan']), scopes='entrezgene', species=9606, as_dataframe=True)\n",
    "tan_symbols = list(tan_mapped['symbol'].dropna())"
   ]
  },
  {
   "cell_type": "markdown",
   "metadata": {},
   "source": [
    "Next let's also convert the background:"
   ]
  },
  {
   "cell_type": "code",
   "execution_count": 52,
   "metadata": {},
   "outputs": [
    {
     "name": "stderr",
     "output_type": "stream",
     "text": [
      "123 input query terms found no hit:\t['100500840', '100861437', '100272216', '101060275', '101060386', '101060399', '101060405', '1010605\n"
     ]
    }
   ],
   "source": [
    "background_mapped = mg.querymany(list(allGenes), scopes='entrezgene', species=9606, as_dataframe=True)\n",
    "background_symbols = list(background_mapped['symbol'].dropna())"
   ]
  },
  {
   "cell_type": "markdown",
   "metadata": {},
   "source": [
    "What are the possible databses for functional enrichment analysis?"
   ]
  },
  {
   "cell_type": "code",
   "execution_count": 54,
   "metadata": {},
   "outputs": [
    {
     "name": "stdout",
     "output_type": "stream",
     "text": [
      "['ARCHS4_Cell-lines', 'ARCHS4_IDG_Coexp', 'ARCHS4_Kinases_Coexp', 'ARCHS4_TFs_Coexp', 'ARCHS4_Tissues', 'Achilles_fitness_decrease', 'Achilles_fitness_increase', 'Aging_Perturbations_from_GEO_down', 'Aging_Perturbations_from_GEO_up', 'Allen_Brain_Atlas_10x_scRNA_2021', 'Allen_Brain_Atlas_down', 'Allen_Brain_Atlas_up', 'Azimuth_2023', 'Azimuth_Cell_Types_2021', 'BioCarta_2013', 'BioCarta_2015', 'BioCarta_2016', 'BioPlanet_2019', 'BioPlex_2017', 'CCLE_Proteomics_2020', 'CORUM', 'COVID-19_Related_Gene_Sets', 'COVID-19_Related_Gene_Sets_2021', 'Cancer_Cell_Line_Encyclopedia', 'CellMarker_2024', 'CellMarker_Augmented_2021', 'ChEA_2013', 'ChEA_2015', 'ChEA_2016', 'ChEA_2022', 'Chromosome_Location', 'Chromosome_Location_hg19', 'ClinVar_2019', 'DGIdb_Drug_Targets_2024', 'DSigDB', 'Data_Acquisition_Method_Most_Popular_Genes', 'DepMap_CRISPR_GeneDependency_CellLines_2023', 'DepMap_WG_CRISPR_Screens_Broad_CellLines_2019', 'DepMap_WG_CRISPR_Screens_Sanger_CellLines_2019', 'Descartes_Cell_Types_and_Tissue_2021', 'Diabetes_Perturbations_GEO_2022', 'DisGeNET', 'Disease_Perturbations_from_GEO_down', 'Disease_Perturbations_from_GEO_up', 'Disease_Signatures_from_GEO_down_2014', 'Disease_Signatures_from_GEO_up_2014', 'DrugMatrix', 'Drug_Perturbations_from_GEO_2014', 'Drug_Perturbations_from_GEO_down', 'Drug_Perturbations_from_GEO_up', 'ENCODE_Histone_Modifications_2013', 'ENCODE_Histone_Modifications_2015', 'ENCODE_TF_ChIP-seq_2014', 'ENCODE_TF_ChIP-seq_2015', 'ENCODE_and_ChEA_Consensus_TFs_from_ChIP-X', 'ESCAPE', 'Elsevier_Pathway_Collection', 'Enrichr_Libraries_Most_Popular_Genes', 'Enrichr_Submissions_TF-Gene_Coocurrence', 'Enrichr_Users_Contributed_Lists_2020', 'Epigenomics_Roadmap_HM_ChIP-seq', 'FANTOM6_lncRNA_KD_DEGs', 'GO_Biological_Process_2013', 'GO_Biological_Process_2015', 'GO_Biological_Process_2017', 'GO_Biological_Process_2017b', 'GO_Biological_Process_2018', 'GO_Biological_Process_2021', 'GO_Biological_Process_2023', 'GO_Cellular_Component_2013', 'GO_Cellular_Component_2015', 'GO_Cellular_Component_2017', 'GO_Cellular_Component_2017b', 'GO_Cellular_Component_2018', 'GO_Cellular_Component_2021', 'GO_Cellular_Component_2023', 'GO_Molecular_Function_2013', 'GO_Molecular_Function_2015', 'GO_Molecular_Function_2017', 'GO_Molecular_Function_2017b', 'GO_Molecular_Function_2018', 'GO_Molecular_Function_2021', 'GO_Molecular_Function_2023', 'GTEx_Aging_Signatures_2021', 'GTEx_Tissue_Expression_Down', 'GTEx_Tissue_Expression_Up', 'GTEx_Tissues_V8_2023', 'GWAS_Catalog_2019', 'GWAS_Catalog_2023', 'GeDiPNet_2023', 'GeneSigDB', 'Gene_Perturbations_from_GEO_down', 'Gene_Perturbations_from_GEO_up', 'Genes_Associated_with_NIH_Grants', 'Genome_Browser_PWMs', 'GlyGen_Glycosylated_Proteins_2022', 'HDSigDB_Human_2021', 'HDSigDB_Mouse_2021', 'HMDB_Metabolites', 'HMS_LINCS_KinomeScan', 'HomoloGene', 'HuBMAP_ASCT_plus_B_augmented_w_RNAseq_Coexpression', 'HuBMAP_ASCTplusB_augmented_2022', 'HumanCyc_2015', 'HumanCyc_2016', 'Human_Gene_Atlas', 'Human_Phenotype_Ontology', 'IDG_Drug_Targets_2022', 'InterPro_Domains_2019', 'Jensen_COMPARTMENTS', 'Jensen_DISEASES', 'Jensen_TISSUES', 'KEA_2013', 'KEA_2015', 'KEGG_2013', 'KEGG_2015', 'KEGG_2016', 'KEGG_2019_Human', 'KEGG_2019_Mouse', 'KEGG_2021_Human', 'KOMP2_Mouse_Phenotypes_2022', 'Kinase_Perturbations_from_GEO_down', 'Kinase_Perturbations_from_GEO_up', 'L1000_Kinase_and_GPCR_Perturbations_down', 'L1000_Kinase_and_GPCR_Perturbations_up', 'LINCS_L1000_CRISPR_KO_Consensus_Sigs', 'LINCS_L1000_Chem_Pert_Consensus_Sigs', 'LINCS_L1000_Chem_Pert_down', 'LINCS_L1000_Chem_Pert_up', 'LINCS_L1000_Ligand_Perturbations_down', 'LINCS_L1000_Ligand_Perturbations_up', 'Ligand_Perturbations_from_GEO_down', 'Ligand_Perturbations_from_GEO_up', 'MAGMA_Drugs_and_Diseases', 'MAGNET_2023', 'MCF7_Perturbations_from_GEO_down', 'MCF7_Perturbations_from_GEO_up', 'MGI_Mammalian_Phenotype_2013', 'MGI_Mammalian_Phenotype_2017', 'MGI_Mammalian_Phenotype_Level_3', 'MGI_Mammalian_Phenotype_Level_4', 'MGI_Mammalian_Phenotype_Level_4_2019', 'MGI_Mammalian_Phenotype_Level_4_2021', 'MGI_Mammalian_Phenotype_Level_4_2024', 'MSigDB_Computational', 'MSigDB_Hallmark_2020', 'MSigDB_Oncogenic_Signatures', 'Metabolomics_Workbench_Metabolites_2022', 'Microbe_Perturbations_from_GEO_down', 'Microbe_Perturbations_from_GEO_up', 'MoTrPAC_2023', 'Mouse_Gene_Atlas', 'NCI-60_Cancer_Cell_Lines', 'NCI-Nature_2016', 'NIH_Funded_PIs_2017_AutoRIF_ARCHS4_Predictions', 'NIH_Funded_PIs_2017_GeneRIF_ARCHS4_Predictions', 'NIH_Funded_PIs_2017_Human_AutoRIF', 'NIH_Funded_PIs_2017_Human_GeneRIF', 'NURSA_Human_Endogenous_Complexome', 'OMIM_Disease', 'OMIM_Expanded', 'Old_CMAP_down', 'Old_CMAP_up', 'Orphanet_Augmented_2021', 'PFOCR_Pathways', 'PFOCR_Pathways_2023', 'PPI_Hub_Proteins', 'PanglaoDB_Augmented_2021', 'Panther_2015', 'Panther_2016', 'PerturbAtlas', 'Pfam_Domains_2019', 'Pfam_InterPro_Domains', 'PheWeb_2019', 'PhenGenI_Association_2021', 'Phosphatase_Substrates_from_DEPOD', 'ProteomicsDB_2020', 'Proteomics_Drug_Atlas_2023', 'RNA-Seq_Disease_Gene_and_Drug_Signatures_from_GEO', 'RNAseq_Automatic_GEO_Signatures_Human_Down', 'RNAseq_Automatic_GEO_Signatures_Human_Up', 'RNAseq_Automatic_GEO_Signatures_Mouse_Down', 'RNAseq_Automatic_GEO_Signatures_Mouse_Up', 'Rare_Diseases_AutoRIF_ARCHS4_Predictions', 'Rare_Diseases_AutoRIF_Gene_Lists', 'Rare_Diseases_GeneRIF_ARCHS4_Predictions', 'Rare_Diseases_GeneRIF_Gene_Lists', 'Reactome_2013', 'Reactome_2015', 'Reactome_2016', 'Reactome_2022', 'Rummagene_kinases', 'Rummagene_signatures', 'Rummagene_transcription_factors', 'SILAC_Phosphoproteomics', 'SubCell_BarCode', 'SynGO_2022', 'SynGO_2024', 'SysMyo_Muscle_Gene_Sets', 'TF-LOF_Expression_from_GEO', 'TF_Perturbations_Followed_by_Expression', 'TG_GATES_2020', 'TRANSFAC_and_JASPAR_PWMs', 'TRRUST_Transcription_Factors_2019', 'Table_Mining_of_CRISPR_Studies', 'Tabula_Muris', 'Tabula_Sapiens', 'TargetScan_microRNA', 'TargetScan_microRNA_2017', 'The_Kinase_Library_2023', 'The_Kinase_Library_2024', 'Tissue_Protein_Expression_from_Human_Proteome_Map', 'Tissue_Protein_Expression_from_ProteomicsDB', 'Transcription_Factor_PPIs', 'UK_Biobank_GWAS_v1', 'Virus-Host_PPI_P-HIPSTer_2020', 'VirusMINT', 'Virus_Perturbations_from_GEO_down', 'Virus_Perturbations_from_GEO_up', 'WikiPathway_2021_Human', 'WikiPathway_2023_Human', 'WikiPathways_2013', 'WikiPathways_2015', 'WikiPathways_2016', 'WikiPathways_2019_Human', 'WikiPathways_2019_Mouse', 'WikiPathways_2024_Human', 'WikiPathways_2024_Mouse', 'dbGaP', 'huMAP', 'lncHUB_lncRNA_Co-Expression', 'miRTarBase_2017']\n"
     ]
    }
   ],
   "source": [
    "names = gp.get_library_name()\n",
    "print(names)"
   ]
  },
  {
   "cell_type": "markdown",
   "metadata": {},
   "source": [
    "Now let's conduct the functional enrichment analysis for 'GO_Biological_Process_2023' and 'KEGG_2021_Human':"
   ]
  },
  {
   "cell_type": "code",
   "execution_count": 56,
   "metadata": {},
   "outputs": [
    {
     "name": "stdout",
     "output_type": "stream",
     "text": [
      "                        Gene_set  \\\n",
      "0     GO_Biological_Process_2023   \n",
      "1     GO_Biological_Process_2023   \n",
      "2     GO_Biological_Process_2023   \n",
      "3     GO_Biological_Process_2023   \n",
      "4     GO_Biological_Process_2023   \n",
      "...                          ...   \n",
      "2318             KEGG_2021_Human   \n",
      "2319             KEGG_2021_Human   \n",
      "2320             KEGG_2021_Human   \n",
      "2321             KEGG_2021_Human   \n",
      "2322             KEGG_2021_Human   \n",
      "\n",
      "                                                   Term Overlap   P-value  \\\n",
      "0     Positive Regulation Of Phosphoprotein Phosphat...    5/18  0.000028   \n",
      "1     Positive Regulation Of Phosphatase Activity (G...    5/22  0.000079   \n",
      "2                 Lipoprotein Localization (GO:0044872)    4/12  0.000084   \n",
      "3     Regulation Of Cell Communication By Electrical...    4/12  0.000084   \n",
      "4     Dolichol-Linked Oligosaccharide Biosynthetic P...    4/15  0.000220   \n",
      "...                                                 ...     ...       ...   \n",
      "2318                                           Ribosome   1/158  0.965774   \n",
      "2319                                Coronavirus disease   1/232  0.993018   \n",
      "2320                   Herpes simplex virus 1 infection   4/498  0.993648   \n",
      "2321                             Olfactory transduction   3/440  0.995561   \n",
      "2322             Cytokine-cytokine receptor interaction   1/295  0.998203   \n",
      "\n",
      "      Adjusted P-value  Old P-value  Old Adjusted P-value  Odds Ratio  \\\n",
      "0             0.043404            0                     0   18.089867   \n",
      "1             0.043404            0                     0   13.830600   \n",
      "2             0.043404            0                     0   23.466427   \n",
      "3             0.043404            0                     0   23.466427   \n",
      "4             0.076757            0                     0   17.063876   \n",
      "...                ...          ...                   ...         ...   \n",
      "2318          0.981414            0                     0    0.294540   \n",
      "2319          0.998203            0                     0    0.199423   \n",
      "2320          0.998203            0                     0    0.370586   \n",
      "2321          0.998203            0                     0    0.314377   \n",
      "2322          0.998203            0                     0    0.156179   \n",
      "\n",
      "      Combined Score                          Genes  \n",
      "0         189.918252  ITGA1;GNA12;CALM3;CALM1;CALM2  \n",
      "1         130.633275  ITGA1;GNA12;CALM3;CALM1;CALM2  \n",
      "2         220.283338        VMP1;SAR1B;SURF4;ZDHHC3  \n",
      "3         220.283338         CAV1;CALM3;CALM1;CALM2  \n",
      "4         143.728559          ALG8;ALG9;DHDDS;MPDU1  \n",
      "...              ...                            ...  \n",
      "2318        0.010258                         MRPS14  \n",
      "2319        0.001397                          MAPK9  \n",
      "2320        0.002361           AKT2;CYCS;ZNF226;BID  \n",
      "2321        0.001399              CALM3;CALM1;CALM2  \n",
      "2322        0.000281                            LEP  \n",
      "\n",
      "[2323 rows x 10 columns]\n"
     ]
    }
   ],
   "source": [
    "enr1 = gp.enrichr(gene_list=tan_symbols, gene_sets=['GO_Biological_Process_2023','KEGG_2021_Human'], organism='Human', outdir='Tan_functional_enrichment', cutoff=0.05, no_plot=True) #, background=background_symbols) # tan_symbols\n",
    "print(enr1.results)"
   ]
  },
  {
   "cell_type": "markdown",
   "metadata": {},
   "source": [
    "Please look into the 'Tan_functional_enrichment' directory which should have three files:\n",
    "- GO_Biological_Process_2021.Tan_module.enrichr.reports.txt - GO BP enrichment\n",
    "- gseapy.enrichr.Tan_module.log - log file for analysis\n",
    "- KEGG_2021_Human.Tan_module.enrichr.reports.txt - KEGG enrichment\n",
    "\n",
    "The header for the enrichment anlaysis contains:\n",
    "\n",
    "`Gene_set\tTerm\tOverlap\tP-value\tAdjusted P-value\tOld P-value\tOld Adjusted P-value\tOdds Ratio\tCombined Score\tGenes`"
   ]
  }
 ],
 "metadata": {
  "kernelspec": {
   "display_name": "Python 3 (ipykernel)",
   "language": "python",
   "name": "python3"
  },
  "language_info": {
   "codemirror_mode": {
    "name": "ipython",
    "version": 3
   },
   "file_extension": ".py",
   "mimetype": "text/x-python",
   "name": "python",
   "nbconvert_exporter": "python",
   "pygments_lexer": "ipython3",
   "version": "3.12.3"
  }
 },
 "nbformat": 4,
 "nbformat_minor": 4
}
